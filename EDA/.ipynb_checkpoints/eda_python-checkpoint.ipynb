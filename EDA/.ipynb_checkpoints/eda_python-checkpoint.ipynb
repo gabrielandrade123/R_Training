{
 "cells": [
  {
   "cell_type": "markdown",
   "metadata": {},
   "source": [
    "# Top Python Libraries to Automate Exploratory Data Analysis in 2021"
   ]
  },
  {
   "cell_type": "code",
   "execution_count": 15,
   "metadata": {},
   "outputs": [],
   "source": [
    "# SOURCE: https://www.analyticsvidhya.com/blog/2021/04/top-python-libraries-to-automate-exploratory-data-analysis-in-2021/"
   ]
  },
  {
   "cell_type": "code",
   "execution_count": 7,
   "metadata": {
    "tags": []
   },
   "outputs": [
    {
     "name": "stdout",
     "output_type": "stream",
     "text": [
      "Collecting package metadata (current_repodata.json): done\n",
      "Solving environment: done\n",
      "\n",
      "\n",
      "==> WARNING: A newer version of conda exists. <==\n",
      "  current version: 4.11.0\n",
      "  latest version: 4.12.0\n",
      "\n",
      "Please update conda by running\n",
      "\n",
      "    $ conda update -n base conda\n",
      "\n",
      "\n",
      "\n",
      "## Package Plan ##\n",
      "\n",
      "  environment location: /Users/miguelportela/opt/anaconda3/envs/mypython310\n",
      "\n",
      "  added / updated specs:\n",
      "    - sweetviz\n",
      "\n",
      "\n",
      "The following packages will be UPDATED:\n",
      "\n",
      "  ca-certificates    conda-forge/label/cf202003::ca-certif~ --> conda-forge::ca-certificates-2021.10.8-h033912b_0\n",
      "\n",
      "\n",
      "Preparing transaction: done\n",
      "Verifying transaction: done\n",
      "Executing transaction: done\n"
     ]
    }
   ],
   "source": [
    "#!conda install -y -c conda-forge/label/cf202003 julia\n",
    "#!conda install -y -c conda-forge/label/cf202003 dtale\n",
    "#!conda install -y -c conda-forge sweetviz\n",
    "#!conda install -y -c conda-forge/label/cf202003 pandas-profiling"
   ]
  },
  {
   "cell_type": "code",
   "execution_count": 1,
   "metadata": {},
   "outputs": [],
   "source": [
    "import os,sys\n",
    "import pandas as pd"
   ]
  },
  {
   "cell_type": "code",
   "execution_count": 2,
   "metadata": {},
   "outputs": [],
   "source": [
    "import dtale\n"
   ]
  },
  {
   "cell_type": "code",
   "execution_count": 4,
   "metadata": {},
   "outputs": [],
   "source": [
    "import pandas_profiling\n",
    "import numpy as np\n"
   ]
  },
  {
   "cell_type": "code",
   "execution_count": 6,
   "metadata": {},
   "outputs": [],
   "source": [
    "import sweetviz"
   ]
  },
  {
   "cell_type": "code",
   "execution_count": 28,
   "metadata": {},
   "outputs": [
    {
     "data": {
      "text/plain": [
       "sys.version_info(major=3, minor=9, micro=7, releaselevel='final', serial=0)"
      ]
     },
     "execution_count": 28,
     "metadata": {},
     "output_type": "execute_result"
    }
   ],
   "source": [
    "sys.version_info"
   ]
  },
  {
   "cell_type": "code",
   "execution_count": 29,
   "metadata": {},
   "outputs": [],
   "source": [
    "os.chdir(\"/Users/miguelportela/Documents/GitHub/R_Training/EDA\")"
   ]
  },
  {
   "cell_type": "code",
   "execution_count": 30,
   "metadata": {},
   "outputs": [
    {
     "data": {
      "text/plain": [
       "'/Users/miguelportela/Documents/GitHub/R_Training/EDA'"
      ]
     },
     "execution_count": 30,
     "metadata": {},
     "output_type": "execute_result"
    }
   ],
   "source": [
    "os.getcwd()"
   ]
  },
  {
   "cell_type": "code",
   "execution_count": 31,
   "metadata": {},
   "outputs": [],
   "source": [
    "df = pd.read_stata('nlswork.dta')\n",
    "#df = pd.read_excel('nlswork.xlsx')"
   ]
  },
  {
   "cell_type": "code",
   "execution_count": 32,
   "metadata": {},
   "outputs": [
    {
     "name": "stdout",
     "output_type": "stream",
     "text": [
      "http://MBP-de-Miguel-6:40000/dtale/main/1\n",
      "It looks like this data may have already been loaded to D-Tale based on shape and column names. Here is URL of the data that seems to match it:\n",
      "\n",
      "None\n",
      "\n",
      "If you still want to load this data please use the following command:\n",
      "\n",
      "dtale.show(df, ignore_duplicate=True)\n"
     ]
    }
   ],
   "source": [
    "d = dtale.show(df)"
   ]
  },
  {
   "cell_type": "code",
   "execution_count": 26,
   "metadata": {},
   "outputs": [
    {
     "ename": "AttributeError",
     "evalue": "'NoneType' object has no attribute 'open_browser'",
     "output_type": "error",
     "traceback": [
      "\u001b[0;31m---------------------------------------------------------------------------\u001b[0m",
      "\u001b[0;31mAttributeError\u001b[0m                            Traceback (most recent call last)",
      "\u001b[0;32m/var/folders/jn/45p43wcj7sz8v9scyjv_0l6h0000gn/T/ipykernel_79018/3878686658.py\u001b[0m in \u001b[0;36m<module>\u001b[0;34m\u001b[0m\n\u001b[0;32m----> 1\u001b[0;31m \u001b[0md\u001b[0m\u001b[0;34m.\u001b[0m\u001b[0mopen_browser\u001b[0m\u001b[0;34m(\u001b[0m\u001b[0;34m)\u001b[0m\u001b[0;34m\u001b[0m\u001b[0;34m\u001b[0m\u001b[0m\n\u001b[0m",
      "\u001b[0;31mAttributeError\u001b[0m: 'NoneType' object has no attribute 'open_browser'"
     ]
    }
   ],
   "source": [
    "d.open_browser()"
   ]
  },
  {
   "cell_type": "code",
   "execution_count": 13,
   "metadata": {},
   "outputs": [
    {
     "name": "stderr",
     "output_type": "stream",
     "text": [
      "/Users/miguelportela/opt/anaconda3/envs/mypython310/lib/python3.9/multiprocessing/pool.py:48: FutureWarning: The default dtype for empty Series will be 'object' instead of 'float64' in a future version. Specify a dtype explicitly to silence this warning.\n",
      "  return list(map(*args))\n",
      "/Users/miguelportela/opt/anaconda3/envs/mypython310/lib/python3.9/multiprocessing/pool.py:48: FutureWarning: The series.append method is deprecated and will be removed from pandas in a future version. Use pandas.concat instead.\n",
      "  return list(map(*args))\n",
      "/Users/miguelportela/opt/anaconda3/envs/mypython310/lib/python3.9/multiprocessing/pool.py:48: FutureWarning: The default dtype for empty Series will be 'object' instead of 'float64' in a future version. Specify a dtype explicitly to silence this warning.\n",
      "  return list(map(*args))\n",
      "/Users/miguelportela/opt/anaconda3/envs/mypython310/lib/python3.9/multiprocessing/pool.py:48: FutureWarning: The default dtype for empty Series will be 'object' instead of 'float64' in a future version. Specify a dtype explicitly to silence this warning.\n",
      "  return list(map(*args))\n",
      "/Users/miguelportela/opt/anaconda3/envs/mypython310/lib/python3.9/multiprocessing/pool.py:48: FutureWarning: The default dtype for empty Series will be 'object' instead of 'float64' in a future version. Specify a dtype explicitly to silence this warning.\n",
      "  return list(map(*args))\n",
      "/Users/miguelportela/opt/anaconda3/envs/mypython310/lib/python3.9/multiprocessing/pool.py:48: FutureWarning: The series.append method is deprecated and will be removed from pandas in a future version. Use pandas.concat instead.\n",
      "  return list(map(*args))\n",
      "/Users/miguelportela/opt/anaconda3/envs/mypython310/lib/python3.9/multiprocessing/pool.py:48: FutureWarning: The series.append method is deprecated and will be removed from pandas in a future version. Use pandas.concat instead.\n",
      "  return list(map(*args))\n",
      "/Users/miguelportela/opt/anaconda3/envs/mypython310/lib/python3.9/multiprocessing/pool.py:48: FutureWarning: The series.append method is deprecated and will be removed from pandas in a future version. Use pandas.concat instead.\n",
      "  return list(map(*args))\n",
      "/Users/miguelportela/opt/anaconda3/envs/mypython310/lib/python3.9/multiprocessing/pool.py:48: FutureWarning: The default dtype for empty Series will be 'object' instead of 'float64' in a future version. Specify a dtype explicitly to silence this warning.\n",
      "  return list(map(*args))\n",
      "/Users/miguelportela/opt/anaconda3/envs/mypython310/lib/python3.9/multiprocessing/pool.py:48: FutureWarning: The default dtype for empty Series will be 'object' instead of 'float64' in a future version. Specify a dtype explicitly to silence this warning.\n",
      "  return list(map(*args))\n",
      "/Users/miguelportela/opt/anaconda3/envs/mypython310/lib/python3.9/multiprocessing/pool.py:48: FutureWarning: The series.append method is deprecated and will be removed from pandas in a future version. Use pandas.concat instead.\n",
      "  return list(map(*args))\n",
      "/Users/miguelportela/opt/anaconda3/envs/mypython310/lib/python3.9/multiprocessing/pool.py:48: FutureWarning: The series.append method is deprecated and will be removed from pandas in a future version. Use pandas.concat instead.\n",
      "  return list(map(*args))\n",
      "/Users/miguelportela/opt/anaconda3/envs/mypython310/lib/python3.9/multiprocessing/pool.py:48: FutureWarning: The series.append method is deprecated and will be removed from pandas in a future version. Use pandas.concat instead.\n",
      "  return list(map(*args))\n",
      "/Users/miguelportela/opt/anaconda3/envs/mypython310/lib/python3.9/multiprocessing/pool.py:48: FutureWarning: The default dtype for empty Series will be 'object' instead of 'float64' in a future version. Specify a dtype explicitly to silence this warning.\n",
      "  return list(map(*args))\n",
      "/Users/miguelportela/opt/anaconda3/envs/mypython310/lib/python3.9/multiprocessing/pool.py:48: FutureWarning: The default dtype for empty Series will be 'object' instead of 'float64' in a future version. Specify a dtype explicitly to silence this warning.\n",
      "  return list(map(*args))\n",
      "/Users/miguelportela/opt/anaconda3/envs/mypython310/lib/python3.9/multiprocessing/pool.py:48: FutureWarning: The default dtype for empty Series will be 'object' instead of 'float64' in a future version. Specify a dtype explicitly to silence this warning.\n",
      "  return list(map(*args))\n",
      "/Users/miguelportela/opt/anaconda3/envs/mypython310/lib/python3.9/multiprocessing/pool.py:48: FutureWarning: The default dtype for empty Series will be 'object' instead of 'float64' in a future version. Specify a dtype explicitly to silence this warning.\n",
      "  return list(map(*args))\n",
      "/Users/miguelportela/opt/anaconda3/envs/mypython310/lib/python3.9/multiprocessing/pool.py:48: FutureWarning: The series.append method is deprecated and will be removed from pandas in a future version. Use pandas.concat instead.\n",
      "  return list(map(*args))\n",
      "/Users/miguelportela/opt/anaconda3/envs/mypython310/lib/python3.9/multiprocessing/pool.py:48: FutureWarning: The series.append method is deprecated and will be removed from pandas in a future version. Use pandas.concat instead.\n",
      "  return list(map(*args))\n",
      "/Users/miguelportela/opt/anaconda3/envs/mypython310/lib/python3.9/multiprocessing/pool.py:48: FutureWarning: The series.append method is deprecated and will be removed from pandas in a future version. Use pandas.concat instead.\n",
      "  return list(map(*args))\n",
      "/Users/miguelportela/opt/anaconda3/envs/mypython310/lib/python3.9/multiprocessing/pool.py:48: FutureWarning: The series.append method is deprecated and will be removed from pandas in a future version. Use pandas.concat instead.\n",
      "  return list(map(*args))\n",
      "/Users/miguelportela/opt/anaconda3/envs/mypython310/lib/python3.9/multiprocessing/pool.py:48: FutureWarning: The series.append method is deprecated and will be removed from pandas in a future version. Use pandas.concat instead.\n",
      "  return list(map(*args))\n",
      "/Users/miguelportela/opt/anaconda3/envs/mypython310/lib/python3.9/multiprocessing/pool.py:48: FutureWarning: The default dtype for empty Series will be 'object' instead of 'float64' in a future version. Specify a dtype explicitly to silence this warning.\n",
      "  return list(map(*args))\n",
      "/Users/miguelportela/opt/anaconda3/envs/mypython310/lib/python3.9/multiprocessing/pool.py:48: FutureWarning: The series.append method is deprecated and will be removed from pandas in a future version. Use pandas.concat instead.\n",
      "  return list(map(*args))\n",
      "/Users/miguelportela/opt/anaconda3/envs/mypython310/lib/python3.9/multiprocessing/pool.py:48: FutureWarning: The series.append method is deprecated and will be removed from pandas in a future version. Use pandas.concat instead.\n",
      "  return list(map(*args))\n",
      "/Users/miguelportela/opt/anaconda3/envs/mypython310/lib/python3.9/multiprocessing/pool.py:48: FutureWarning: The series.append method is deprecated and will be removed from pandas in a future version. Use pandas.concat instead.\n",
      "  return list(map(*args))\n",
      "/Users/miguelportela/opt/anaconda3/envs/mypython310/lib/python3.9/multiprocessing/pool.py:48: FutureWarning: The default dtype for empty Series will be 'object' instead of 'float64' in a future version. Specify a dtype explicitly to silence this warning.\n",
      "  return list(map(*args))\n",
      "/Users/miguelportela/opt/anaconda3/envs/mypython310/lib/python3.9/multiprocessing/pool.py:48: FutureWarning: The series.append method is deprecated and will be removed from pandas in a future version. Use pandas.concat instead.\n",
      "  return list(map(*args))\n",
      "/Users/miguelportela/opt/anaconda3/envs/mypython310/lib/python3.9/multiprocessing/pool.py:48: FutureWarning: The default dtype for empty Series will be 'object' instead of 'float64' in a future version. Specify a dtype explicitly to silence this warning.\n",
      "  return list(map(*args))\n",
      "/Users/miguelportela/opt/anaconda3/envs/mypython310/lib/python3.9/multiprocessing/pool.py:48: FutureWarning: The series.append method is deprecated and will be removed from pandas in a future version. Use pandas.concat instead.\n",
      "  return list(map(*args))\n",
      "/Users/miguelportela/opt/anaconda3/envs/mypython310/lib/python3.9/multiprocessing/pool.py:48: FutureWarning: The series.append method is deprecated and will be removed from pandas in a future version. Use pandas.concat instead.\n",
      "  return list(map(*args))\n",
      "/Users/miguelportela/opt/anaconda3/envs/mypython310/lib/python3.9/multiprocessing/pool.py:48: FutureWarning: The series.append method is deprecated and will be removed from pandas in a future version. Use pandas.concat instead.\n",
      "  return list(map(*args))\n",
      "/Users/miguelportela/opt/anaconda3/envs/mypython310/lib/python3.9/multiprocessing/pool.py:48: FutureWarning: The default dtype for empty Series will be 'object' instead of 'float64' in a future version. Specify a dtype explicitly to silence this warning.\n",
      "  return list(map(*args))\n",
      "/Users/miguelportela/opt/anaconda3/envs/mypython310/lib/python3.9/multiprocessing/pool.py:48: FutureWarning: The series.append method is deprecated and will be removed from pandas in a future version. Use pandas.concat instead.\n",
      "  return list(map(*args))\n",
      "/Users/miguelportela/opt/anaconda3/envs/mypython310/lib/python3.9/multiprocessing/pool.py:48: FutureWarning: The default dtype for empty Series will be 'object' instead of 'float64' in a future version. Specify a dtype explicitly to silence this warning.\n",
      "  return list(map(*args))\n",
      "/Users/miguelportela/opt/anaconda3/envs/mypython310/lib/python3.9/multiprocessing/pool.py:48: FutureWarning: The series.append method is deprecated and will be removed from pandas in a future version. Use pandas.concat instead.\n",
      "  return list(map(*args))\n",
      "/Users/miguelportela/opt/anaconda3/envs/mypython310/lib/python3.9/multiprocessing/pool.py:48: FutureWarning: The series.append method is deprecated and will be removed from pandas in a future version. Use pandas.concat instead.\n",
      "  return list(map(*args))\n",
      "/Users/miguelportela/opt/anaconda3/envs/mypython310/lib/python3.9/multiprocessing/pool.py:48: FutureWarning: The series.append method is deprecated and will be removed from pandas in a future version. Use pandas.concat instead.\n",
      "  return list(map(*args))\n",
      "/Users/miguelportela/opt/anaconda3/envs/mypython310/lib/python3.9/multiprocessing/pool.py:48: FutureWarning: The default dtype for empty Series will be 'object' instead of 'float64' in a future version. Specify a dtype explicitly to silence this warning.\n",
      "  return list(map(*args))\n",
      "/Users/miguelportela/opt/anaconda3/envs/mypython310/lib/python3.9/multiprocessing/pool.py:48: FutureWarning: The default dtype for empty Series will be 'object' instead of 'float64' in a future version. Specify a dtype explicitly to silence this warning.\n",
      "  return list(map(*args))\n",
      "/Users/miguelportela/opt/anaconda3/envs/mypython310/lib/python3.9/multiprocessing/pool.py:48: FutureWarning: The series.append method is deprecated and will be removed from pandas in a future version. Use pandas.concat instead.\n",
      "  return list(map(*args))\n",
      "/Users/miguelportela/opt/anaconda3/envs/mypython310/lib/python3.9/multiprocessing/pool.py:48: FutureWarning: The series.append method is deprecated and will be removed from pandas in a future version. Use pandas.concat instead.\n",
      "  return list(map(*args))\n",
      "/Users/miguelportela/opt/anaconda3/envs/mypython310/lib/python3.9/multiprocessing/pool.py:48: FutureWarning: The series.append method is deprecated and will be removed from pandas in a future version. Use pandas.concat instead.\n",
      "  return list(map(*args))\n",
      "/Users/miguelportela/opt/anaconda3/envs/mypython310/lib/python3.9/multiprocessing/pool.py:48: FutureWarning: The default dtype for empty Series will be 'object' instead of 'float64' in a future version. Specify a dtype explicitly to silence this warning.\n",
      "  return list(map(*args))\n",
      "/Users/miguelportela/opt/anaconda3/envs/mypython310/lib/python3.9/multiprocessing/pool.py:48: FutureWarning: The series.append method is deprecated and will be removed from pandas in a future version. Use pandas.concat instead.\n",
      "  return list(map(*args))\n",
      "/Users/miguelportela/opt/anaconda3/envs/mypython310/lib/python3.9/multiprocessing/pool.py:48: FutureWarning: The series.append method is deprecated and will be removed from pandas in a future version. Use pandas.concat instead.\n",
      "  return list(map(*args))\n",
      "/Users/miguelportela/opt/anaconda3/envs/mypython310/lib/python3.9/multiprocessing/pool.py:48: FutureWarning: The default dtype for empty Series will be 'object' instead of 'float64' in a future version. Specify a dtype explicitly to silence this warning.\n",
      "  return list(map(*args))\n",
      "/Users/miguelportela/opt/anaconda3/envs/mypython310/lib/python3.9/multiprocessing/pool.py:48: FutureWarning: The series.append method is deprecated and will be removed from pandas in a future version. Use pandas.concat instead.\n",
      "  return list(map(*args))\n",
      "/Users/miguelportela/opt/anaconda3/envs/mypython310/lib/python3.9/multiprocessing/pool.py:48: FutureWarning: The series.append method is deprecated and will be removed from pandas in a future version. Use pandas.concat instead.\n",
      "  return list(map(*args))\n",
      "/Users/miguelportela/opt/anaconda3/envs/mypython310/lib/python3.9/multiprocessing/pool.py:48: FutureWarning: The default dtype for empty Series will be 'object' instead of 'float64' in a future version. Specify a dtype explicitly to silence this warning.\n",
      "  return list(map(*args))\n",
      "/Users/miguelportela/opt/anaconda3/envs/mypython310/lib/python3.9/multiprocessing/pool.py:48: FutureWarning: The series.append method is deprecated and will be removed from pandas in a future version. Use pandas.concat instead.\n",
      "  return list(map(*args))\n",
      "/Users/miguelportela/opt/anaconda3/envs/mypython310/lib/python3.9/multiprocessing/pool.py:48: FutureWarning: The series.append method is deprecated and will be removed from pandas in a future version. Use pandas.concat instead.\n",
      "  return list(map(*args))\n",
      "/Users/miguelportela/opt/anaconda3/envs/mypython310/lib/python3.9/multiprocessing/pool.py:48: FutureWarning: The series.append method is deprecated and will be removed from pandas in a future version. Use pandas.concat instead.\n",
      "  return list(map(*args))\n",
      "/Users/miguelportela/opt/anaconda3/envs/mypython310/lib/python3.9/multiprocessing/pool.py:48: FutureWarning: The default dtype for empty Series will be 'object' instead of 'float64' in a future version. Specify a dtype explicitly to silence this warning.\n",
      "  return list(map(*args))\n",
      "/Users/miguelportela/opt/anaconda3/envs/mypython310/lib/python3.9/multiprocessing/pool.py:48: FutureWarning: The series.append method is deprecated and will be removed from pandas in a future version. Use pandas.concat instead.\n",
      "  return list(map(*args))\n",
      "/Users/miguelportela/opt/anaconda3/envs/mypython310/lib/python3.9/multiprocessing/pool.py:48: FutureWarning: The series.append method is deprecated and will be removed from pandas in a future version. Use pandas.concat instead.\n",
      "  return list(map(*args))\n",
      "/Users/miguelportela/opt/anaconda3/envs/mypython310/lib/python3.9/multiprocessing/pool.py:48: FutureWarning: The series.append method is deprecated and will be removed from pandas in a future version. Use pandas.concat instead.\n",
      "  return list(map(*args))\n",
      "/Users/miguelportela/opt/anaconda3/envs/mypython310/lib/python3.9/multiprocessing/pool.py:48: FutureWarning: The series.append method is deprecated and will be removed from pandas in a future version. Use pandas.concat instead.\n",
      "  return list(map(*args))\n",
      "/Users/miguelportela/opt/anaconda3/envs/mypython310/lib/python3.9/multiprocessing/pool.py:48: FutureWarning: The series.append method is deprecated and will be removed from pandas in a future version. Use pandas.concat instead.\n",
      "  return list(map(*args))\n",
      "/Users/miguelportela/opt/anaconda3/envs/mypython310/lib/python3.9/multiprocessing/pool.py:48: FutureWarning: The series.append method is deprecated and will be removed from pandas in a future version. Use pandas.concat instead.\n",
      "  return list(map(*args))\n",
      "/Users/miguelportela/opt/anaconda3/envs/mypython310/lib/python3.9/multiprocessing/pool.py:48: FutureWarning: The series.append method is deprecated and will be removed from pandas in a future version. Use pandas.concat instead.\n",
      "  return list(map(*args))\n",
      "/Users/miguelportela/opt/anaconda3/envs/mypython310/lib/python3.9/multiprocessing/pool.py:48: FutureWarning: The series.append method is deprecated and will be removed from pandas in a future version. Use pandas.concat instead.\n",
      "  return list(map(*args))\n"
     ]
    },
    {
     "ename": "TypeError",
     "evalue": "concat() got an unexpected keyword argument 'join_axes'",
     "output_type": "error",
     "traceback": [
      "\u001b[0;31m---------------------------------------------------------------------------\u001b[0m",
      "\u001b[0;31mTypeError\u001b[0m                                 Traceback (most recent call last)",
      "\u001b[0;32m/var/folders/jn/45p43wcj7sz8v9scyjv_0l6h0000gn/T/ipykernel_79018/3358060092.py\u001b[0m in \u001b[0;36m<module>\u001b[0;34m\u001b[0m\n\u001b[0;32m----> 1\u001b[0;31m \u001b[0mpandas_profiling\u001b[0m\u001b[0;34m.\u001b[0m\u001b[0mProfileReport\u001b[0m\u001b[0;34m(\u001b[0m\u001b[0mdf\u001b[0m\u001b[0;34m)\u001b[0m\u001b[0;34m\u001b[0m\u001b[0;34m\u001b[0m\u001b[0m\n\u001b[0m",
      "\u001b[0;32m~/opt/anaconda3/envs/mypython310/lib/python3.9/site-packages/pandas_profiling/__init__.py\u001b[0m in \u001b[0;36m__init__\u001b[0;34m(self, df, **kwargs)\u001b[0m\n\u001b[1;32m     64\u001b[0m         \u001b[0msample\u001b[0m \u001b[0;34m=\u001b[0m \u001b[0mkwargs\u001b[0m\u001b[0;34m.\u001b[0m\u001b[0mget\u001b[0m\u001b[0;34m(\u001b[0m\u001b[0;34m'sample'\u001b[0m\u001b[0;34m,\u001b[0m \u001b[0mdf\u001b[0m\u001b[0;34m.\u001b[0m\u001b[0mhead\u001b[0m\u001b[0;34m(\u001b[0m\u001b[0;34m)\u001b[0m\u001b[0;34m)\u001b[0m\u001b[0;34m\u001b[0m\u001b[0;34m\u001b[0m\u001b[0m\n\u001b[1;32m     65\u001b[0m \u001b[0;34m\u001b[0m\u001b[0m\n\u001b[0;32m---> 66\u001b[0;31m         \u001b[0mdescription_set\u001b[0m \u001b[0;34m=\u001b[0m \u001b[0mdescribe_df\u001b[0m\u001b[0;34m(\u001b[0m\u001b[0mdf\u001b[0m\u001b[0;34m,\u001b[0m \u001b[0;34m**\u001b[0m\u001b[0mkwargs\u001b[0m\u001b[0;34m)\u001b[0m\u001b[0;34m\u001b[0m\u001b[0;34m\u001b[0m\u001b[0m\n\u001b[0m\u001b[1;32m     67\u001b[0m \u001b[0;34m\u001b[0m\u001b[0m\n\u001b[1;32m     68\u001b[0m         self.html = to_html(sample,\n",
      "\u001b[0;32m~/opt/anaconda3/envs/mypython310/lib/python3.9/site-packages/pandas_profiling/describe.py\u001b[0m in \u001b[0;36mdescribe\u001b[0;34m(df, bins, check_correlation, correlation_threshold, correlation_overrides, check_recoded, pool_size, **kwargs)\u001b[0m\n\u001b[1;32m    402\u001b[0m             \u001b[0;32mif\u001b[0m \u001b[0mname\u001b[0m \u001b[0;32mnot\u001b[0m \u001b[0;32min\u001b[0m \u001b[0mnames\u001b[0m\u001b[0;34m:\u001b[0m\u001b[0;34m\u001b[0m\u001b[0;34m\u001b[0m\u001b[0m\n\u001b[1;32m    403\u001b[0m                 \u001b[0mnames\u001b[0m\u001b[0;34m.\u001b[0m\u001b[0mappend\u001b[0m\u001b[0;34m(\u001b[0m\u001b[0mname\u001b[0m\u001b[0;34m)\u001b[0m\u001b[0;34m\u001b[0m\u001b[0;34m\u001b[0m\u001b[0m\n\u001b[0;32m--> 404\u001b[0;31m     \u001b[0mvariable_stats\u001b[0m \u001b[0;34m=\u001b[0m \u001b[0mpd\u001b[0m\u001b[0;34m.\u001b[0m\u001b[0mconcat\u001b[0m\u001b[0;34m(\u001b[0m\u001b[0mldesc\u001b[0m\u001b[0;34m,\u001b[0m \u001b[0mjoin_axes\u001b[0m\u001b[0;34m=\u001b[0m\u001b[0mpd\u001b[0m\u001b[0;34m.\u001b[0m\u001b[0mIndex\u001b[0m\u001b[0;34m(\u001b[0m\u001b[0;34m[\u001b[0m\u001b[0mnames\u001b[0m\u001b[0;34m]\u001b[0m\u001b[0;34m)\u001b[0m\u001b[0;34m,\u001b[0m \u001b[0maxis\u001b[0m\u001b[0;34m=\u001b[0m\u001b[0;36m1\u001b[0m\u001b[0;34m)\u001b[0m\u001b[0;34m\u001b[0m\u001b[0;34m\u001b[0m\u001b[0m\n\u001b[0m\u001b[1;32m    405\u001b[0m     \u001b[0mvariable_stats\u001b[0m\u001b[0;34m.\u001b[0m\u001b[0mcolumns\u001b[0m\u001b[0;34m.\u001b[0m\u001b[0mnames\u001b[0m \u001b[0;34m=\u001b[0m \u001b[0mdf\u001b[0m\u001b[0;34m.\u001b[0m\u001b[0mcolumns\u001b[0m\u001b[0;34m.\u001b[0m\u001b[0mnames\u001b[0m\u001b[0;34m\u001b[0m\u001b[0;34m\u001b[0m\u001b[0m\n\u001b[1;32m    406\u001b[0m \u001b[0;34m\u001b[0m\u001b[0m\n",
      "\u001b[0;32m~/opt/anaconda3/envs/mypython310/lib/python3.9/site-packages/pandas/util/_decorators.py\u001b[0m in \u001b[0;36mwrapper\u001b[0;34m(*args, **kwargs)\u001b[0m\n\u001b[1;32m    309\u001b[0m                     \u001b[0mstacklevel\u001b[0m\u001b[0;34m=\u001b[0m\u001b[0mstacklevel\u001b[0m\u001b[0;34m,\u001b[0m\u001b[0;34m\u001b[0m\u001b[0;34m\u001b[0m\u001b[0m\n\u001b[1;32m    310\u001b[0m                 )\n\u001b[0;32m--> 311\u001b[0;31m             \u001b[0;32mreturn\u001b[0m \u001b[0mfunc\u001b[0m\u001b[0;34m(\u001b[0m\u001b[0;34m*\u001b[0m\u001b[0margs\u001b[0m\u001b[0;34m,\u001b[0m \u001b[0;34m**\u001b[0m\u001b[0mkwargs\u001b[0m\u001b[0;34m)\u001b[0m\u001b[0;34m\u001b[0m\u001b[0;34m\u001b[0m\u001b[0m\n\u001b[0m\u001b[1;32m    312\u001b[0m \u001b[0;34m\u001b[0m\u001b[0m\n\u001b[1;32m    313\u001b[0m         \u001b[0;32mreturn\u001b[0m \u001b[0mwrapper\u001b[0m\u001b[0;34m\u001b[0m\u001b[0;34m\u001b[0m\u001b[0m\n",
      "\u001b[0;31mTypeError\u001b[0m: concat() got an unexpected keyword argument 'join_axes'"
     ]
    }
   ],
   "source": [
    "pandas_profiling.ProfileReport(df)"
   ]
  },
  {
   "cell_type": "code",
   "execution_count": 14,
   "metadata": {},
   "outputs": [
    {
     "name": "stderr",
     "output_type": "stream",
     "text": [
      "[Step 3/3] Generating associations graph     |      | [  0%]   00:00 -> (? left)/Users/miguelportela/opt/anaconda3/envs/mypython310/lib/python3.9/site-packages/sweetviz/graph_associations.py:223: FutureWarning:\n",
      "\n",
      "The frame.append method is deprecated and will be removed from pandas in a future version. Use pandas.concat instead.\n",
      "\n",
      "/Users/miguelportela/opt/anaconda3/envs/mypython310/lib/python3.9/site-packages/sweetviz/graph_associations.py:223: FutureWarning:\n",
      "\n",
      "The frame.append method is deprecated and will be removed from pandas in a future version. Use pandas.concat instead.\n",
      "\n",
      "/Users/miguelportela/opt/anaconda3/envs/mypython310/lib/python3.9/site-packages/sweetviz/graph_associations.py:223: FutureWarning:\n",
      "\n",
      "The frame.append method is deprecated and will be removed from pandas in a future version. Use pandas.concat instead.\n",
      "\n",
      "/Users/miguelportela/opt/anaconda3/envs/mypython310/lib/python3.9/site-packages/sweetviz/graph_associations.py:223: FutureWarning:\n",
      "\n",
      "The frame.append method is deprecated and will be removed from pandas in a future version. Use pandas.concat instead.\n",
      "\n",
      "/Users/miguelportela/opt/anaconda3/envs/mypython310/lib/python3.9/site-packages/sweetviz/graph_associations.py:223: FutureWarning:\n",
      "\n",
      "The frame.append method is deprecated and will be removed from pandas in a future version. Use pandas.concat instead.\n",
      "\n",
      "/Users/miguelportela/opt/anaconda3/envs/mypython310/lib/python3.9/site-packages/sweetviz/graph_associations.py:223: FutureWarning:\n",
      "\n",
      "The frame.append method is deprecated and will be removed from pandas in a future version. Use pandas.concat instead.\n",
      "\n",
      "/Users/miguelportela/opt/anaconda3/envs/mypython310/lib/python3.9/site-packages/sweetviz/graph_associations.py:223: FutureWarning:\n",
      "\n",
      "The frame.append method is deprecated and will be removed from pandas in a future version. Use pandas.concat instead.\n",
      "\n",
      "/Users/miguelportela/opt/anaconda3/envs/mypython310/lib/python3.9/site-packages/sweetviz/graph_associations.py:223: FutureWarning:\n",
      "\n",
      "The frame.append method is deprecated and will be removed from pandas in a future version. Use pandas.concat instead.\n",
      "\n",
      "/Users/miguelportela/opt/anaconda3/envs/mypython310/lib/python3.9/site-packages/sweetviz/graph_associations.py:223: FutureWarning:\n",
      "\n",
      "The frame.append method is deprecated and will be removed from pandas in a future version. Use pandas.concat instead.\n",
      "\n",
      "/Users/miguelportela/opt/anaconda3/envs/mypython310/lib/python3.9/site-packages/sweetviz/graph_associations.py:223: FutureWarning:\n",
      "\n",
      "The frame.append method is deprecated and will be removed from pandas in a future version. Use pandas.concat instead.\n",
      "\n",
      "/Users/miguelportela/opt/anaconda3/envs/mypython310/lib/python3.9/site-packages/sweetviz/graph_associations.py:223: FutureWarning:\n",
      "\n",
      "The frame.append method is deprecated and will be removed from pandas in a future version. Use pandas.concat instead.\n",
      "\n",
      "/Users/miguelportela/opt/anaconda3/envs/mypython310/lib/python3.9/site-packages/sweetviz/graph_associations.py:223: FutureWarning:\n",
      "\n",
      "The frame.append method is deprecated and will be removed from pandas in a future version. Use pandas.concat instead.\n",
      "\n",
      "/Users/miguelportela/opt/anaconda3/envs/mypython310/lib/python3.9/site-packages/sweetviz/graph_associations.py:223: FutureWarning:\n",
      "\n",
      "The frame.append method is deprecated and will be removed from pandas in a future version. Use pandas.concat instead.\n",
      "\n",
      "/Users/miguelportela/opt/anaconda3/envs/mypython310/lib/python3.9/site-packages/sweetviz/graph_associations.py:223: FutureWarning:\n",
      "\n",
      "The frame.append method is deprecated and will be removed from pandas in a future version. Use pandas.concat instead.\n",
      "\n",
      "/Users/miguelportela/opt/anaconda3/envs/mypython310/lib/python3.9/site-packages/sweetviz/graph_associations.py:223: FutureWarning:\n",
      "\n",
      "The frame.append method is deprecated and will be removed from pandas in a future version. Use pandas.concat instead.\n",
      "\n",
      "/Users/miguelportela/opt/anaconda3/envs/mypython310/lib/python3.9/site-packages/sweetviz/graph_associations.py:223: FutureWarning:\n",
      "\n",
      "The frame.append method is deprecated and will be removed from pandas in a future version. Use pandas.concat instead.\n",
      "\n",
      "/Users/miguelportela/opt/anaconda3/envs/mypython310/lib/python3.9/site-packages/sweetviz/graph_associations.py:223: FutureWarning:\n",
      "\n",
      "The frame.append method is deprecated and will be removed from pandas in a future version. Use pandas.concat instead.\n",
      "\n",
      "/Users/miguelportela/opt/anaconda3/envs/mypython310/lib/python3.9/site-packages/sweetviz/graph_associations.py:223: FutureWarning:\n",
      "\n",
      "The frame.append method is deprecated and will be removed from pandas in a future version. Use pandas.concat instead.\n",
      "\n",
      "/Users/miguelportela/opt/anaconda3/envs/mypython310/lib/python3.9/site-packages/sweetviz/graph_associations.py:223: FutureWarning:\n",
      "\n",
      "The frame.append method is deprecated and will be removed from pandas in a future version. Use pandas.concat instead.\n",
      "\n",
      "/Users/miguelportela/opt/anaconda3/envs/mypython310/lib/python3.9/site-packages/sweetviz/graph_associations.py:223: FutureWarning:\n",
      "\n",
      "The frame.append method is deprecated and will be removed from pandas in a future version. Use pandas.concat instead.\n",
      "\n",
      "/Users/miguelportela/opt/anaconda3/envs/mypython310/lib/python3.9/site-packages/sweetviz/graph_associations.py:223: FutureWarning:\n",
      "\n",
      "The frame.append method is deprecated and will be removed from pandas in a future version. Use pandas.concat instead.\n",
      "\n",
      "Done! Use 'show' commands to display/save.   |██| [100%]   00:00 -> (00:00 left)\n"
     ]
    }
   ],
   "source": [
    "my_report  = sweetviz.analyze([df,'tenure'], target_feat='ln_wage')"
   ]
  },
  {
   "cell_type": "code",
   "execution_count": 15,
   "metadata": {},
   "outputs": [
    {
     "name": "stdout",
     "output_type": "stream",
     "text": [
      "Report FinalReport.html was generated! NOTEBOOK/COLAB USERS: the web browser MAY not pop up, regardless, the report IS saved in your notebook/colab files.\n"
     ]
    }
   ],
   "source": [
    "my_report.show_html('FinalReport.html')"
   ]
  },
  {
   "cell_type": "code",
   "execution_count": null,
   "metadata": {},
   "outputs": [],
   "source": [
    "#!conda install -y -c anaconda autovizwidget"
   ]
  },
  {
   "cell_type": "code",
   "execution_count": null,
   "metadata": {},
   "outputs": [],
   "source": [
    "#!conda install -c conda-forge autoviz "
   ]
  },
  {
   "cell_type": "code",
   "execution_count": null,
   "metadata": {},
   "outputs": [
    {
     "ename": "ModuleNotFoundError",
     "evalue": "No module named 'autoviz'",
     "output_type": "error",
     "traceback": [
      "\u001b[1;31m---------------------------------------------------------------------------\u001b[0m",
      "\u001b[1;31mModuleNotFoundError\u001b[0m                       Traceback (most recent call last)",
      "\u001b[1;32m<ipython-input-14-652319862762>\u001b[0m in \u001b[0;36m<module>\u001b[1;34m\u001b[0m\n\u001b[1;32m----> 1\u001b[1;33m \u001b[1;32mfrom\u001b[0m \u001b[0mautoviz\u001b[0m\u001b[1;33m.\u001b[0m\u001b[0mAutoViz_Class\u001b[0m \u001b[1;32mimport\u001b[0m \u001b[0mAutoViz_Class\u001b[0m\u001b[1;33m\u001b[0m\u001b[1;33m\u001b[0m\u001b[0m\n\u001b[0m\u001b[0;32m      2\u001b[0m \u001b[0mAV\u001b[0m \u001b[1;33m=\u001b[0m \u001b[0mAutoViz_Class\u001b[0m\u001b[1;33m(\u001b[0m\u001b[1;33m)\u001b[0m\u001b[1;33m\u001b[0m\u001b[1;33m\u001b[0m\u001b[0m\n",
      "\u001b[1;31mModuleNotFoundError\u001b[0m: No module named 'autoviz'"
     ]
    }
   ],
   "source": [
    "#from autoviz.AutoViz_Class import AutoViz_Class\n",
    "#AV = AutoViz_Class()"
   ]
  },
  {
   "cell_type": "code",
   "execution_count": null,
   "metadata": {},
   "outputs": [
    {
     "ename": "NameError",
     "evalue": "name 'AV' is not defined",
     "output_type": "error",
     "traceback": [
      "\u001b[1;31m---------------------------------------------------------------------------\u001b[0m",
      "\u001b[1;31mNameError\u001b[0m                                 Traceback (most recent call last)",
      "\u001b[1;32m<ipython-input-13-d019d73f13ab>\u001b[0m in \u001b[0;36m<module>\u001b[1;34m\u001b[0m\n\u001b[1;32m----> 1\u001b[1;33m \u001b[0mdf2\u001b[0m \u001b[1;33m=\u001b[0m \u001b[0mAV\u001b[0m\u001b[1;33m.\u001b[0m\u001b[0mAutoViz\u001b[0m\u001b[1;33m(\u001b[0m\u001b[1;34m'nlswork.csv'\u001b[0m\u001b[1;33m)\u001b[0m\u001b[1;33m\u001b[0m\u001b[1;33m\u001b[0m\u001b[0m\n\u001b[0m",
      "\u001b[1;31mNameError\u001b[0m: name 'AV' is not defined"
     ]
    }
   ],
   "source": [
    "#df2 = AV.AutoViz('nlswork.csv')"
   ]
  }
 ],
 "metadata": {
  "kernelspec": {
   "display_name": "Python 3.9.7 ('mypython310')",
   "language": "python",
   "name": "python397jvsc74a57bd0198abcb5d8bab07048753feeb5a1bcb3eb158f044c45ba76843b5692eb94db66"
  },
  "language_info": {
   "codemirror_mode": {
    "name": "ipython",
    "version": 3
   },
   "file_extension": ".py",
   "mimetype": "text/x-python",
   "name": "python",
   "nbconvert_exporter": "python",
   "pygments_lexer": "ipython3",
   "version": "3.9.7"
  },
  "widgets": {
   "application/vnd.jupyter.widget-state+json": {
    "state": {},
    "version_major": 2,
    "version_minor": 0
   }
  }
 },
 "nbformat": 4,
 "nbformat_minor": 4
}
